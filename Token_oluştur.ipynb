{
 "cells": [
  {
   "cell_type": "markdown",
   "metadata": {},
   "source": [
    "Tokenizer oluşturma "
   ]
  },
  {
   "cell_type": "code",
   "execution_count": 3,
   "metadata": {},
   "outputs": [
    {
     "data": {
      "text/plain": [
       "'BATUHAN ERDURCAN \\n21301855 \\nTU'"
      ]
     },
     "execution_count": 3,
     "metadata": {},
     "output_type": "execute_result"
    }
   ],
   "source": [
    "with open(\"/Users/abdulbarisoylemez/Documents/VisualCode/Tek_Harfli_GPT/tr_texts_400.txt\",\"r\") as f:\n",
    "     metin=f.read()\n",
    "\n",
    "metin[0:30]"
   ]
  },
  {
   "cell_type": "code",
   "execution_count": 4,
   "metadata": {},
   "outputs": [
    {
     "data": {
      "text/plain": [
       "32"
      ]
     },
     "execution_count": 4,
     "metadata": {},
     "output_type": "execute_result"
    }
   ],
   "source": [
    "harfler = [\"a\", \"b\", \"c\", \"ç\", \"d\", \"e\", \"f\", \"g\", \"ğ\", \"h\", \"ı\", \"i\", \"j\", \"k\", \"l\", \"m\", \"n\", \"o\", \"ö\", \"p\", \"r\", \"s\", \"ş\", \"t\", \"u\", \"ü\", \"v\", \"y\", \"z\",\" \",\".\",\",\"]\n",
    "len(harfler)"
   ]
  },
  {
   "cell_type": "markdown",
   "metadata": {},
   "source": [
    "Harfleri jetonlara dönüştürüyor , yani her harfe bir sayısal index veriyor \n"
   ]
  },
  {
   "cell_type": "code",
   "execution_count": 6,
   "metadata": {},
   "outputs": [],
   "source": [
    "def enCoder(harf):\n",
    "  harf=harf.lower() #biz buyük harflere uyumlu şekilde düzenledik kodu \n",
    "  if harf in harfler:\n",
    "    return harfler.index(harf) # Harfleri jetonlara dönüştürüyor , yani her harfe bir sayısal index veriyor \n",
    "  else:\n",
    "    return -1\n"
   ]
  },
  {
   "cell_type": "code",
   "execution_count": 7,
   "metadata": {},
   "outputs": [],
   "source": [
    "def deCoder(sayi):\n",
    "  if sayi <0 or sayi > len(harfler):\n",
    "    return \"\"\n",
    "  else:\n",
    "    return harfler[sayi]"
   ]
  },
  {
   "cell_type": "markdown",
   "metadata": {},
   "source": [
    "Şimdi enCoder ve deCoder fonksiyonları çalıştırıalım"
   ]
  },
  {
   "cell_type": "code",
   "execution_count": 10,
   "metadata": {},
   "outputs": [
    {
     "name": "stdout",
     "output_type": "stream",
     "text": [
      "1\n"
     ]
    }
   ],
   "source": [
    "jeton=enCoder(\"B\")\n",
    "print(jeton)"
   ]
  },
  {
   "cell_type": "code",
   "execution_count": 11,
   "metadata": {},
   "outputs": [
    {
     "name": "stdout",
     "output_type": "stream",
     "text": [
      "b\n"
     ]
    }
   ],
   "source": [
    "harf=deCoder(jeton)\n",
    "print(harf)"
   ]
  },
  {
   "cell_type": "markdown",
   "metadata": {},
   "source": [
    "Btün metni jetonlara dönüştürelim "
   ]
  },
  {
   "cell_type": "code",
   "execution_count": 12,
   "metadata": {},
   "outputs": [],
   "source": [
    "def jetonlaştır(metin):\n",
    "  jetonlar=[]\n",
    "  for harf in metin:\n",
    "    jeton=(enCoder(harf))\n",
    "    if jeton != -1:\n",
    "      jetonlar.append(jeton)\n",
    "  return jetonlar"
   ]
  },
  {
   "cell_type": "code",
   "execution_count": 13,
   "metadata": {},
   "outputs": [
    {
     "name": "stdout",
     "output_type": "stream",
     "text": [
      "1773212\n",
      "1718889\n"
     ]
    }
   ],
   "source": [
    "print(len(metin)) # saf metin \n",
    "metin=metin.replace(\"\\n\",\" \").replace(\"\\r\",\" \").replace(\"\\t\",\" \").replace(\"  \",\" \")\n",
    "\n",
    "while \"  \" in metin:\n",
    "  metin=metin.replace(\"  \",\" \")\n",
    "print(len(metin)) # temizlenmiş metin \n"
   ]
  },
  {
   "cell_type": "markdown",
   "metadata": {},
   "source": [
    "Jetonlaştır fonksiyonunu data metni üzerinde çalıştır "
   ]
  },
  {
   "cell_type": "code",
   "execution_count": 14,
   "metadata": {},
   "outputs": [
    {
     "name": "stdout",
     "output_type": "stream",
     "text": [
      "1689919 [1, 0, 23, 24, 9, 0, 16, 29, 5, 20, 4, 24, 20, 2, 0, 16, 29, 29, 23, 24, 20, 13, 29, 29, 18, 4, 5, 26, 29, 29, 0, 14, 29, 23, 24, 20, 0, 16, 29, 7]\n"
     ]
    }
   ],
   "source": [
    "jetonlar=jetonlaştır(metin)\n",
    "print(len(jetonlar),jetonlar[:40])"
   ]
  },
  {
   "cell_type": "markdown",
   "metadata": {},
   "source": [
    "Doğrulma jetonlarını oluşturalım oranını hesaplıyalım"
   ]
  },
  {
   "cell_type": "code",
   "execution_count": 17,
   "metadata": {},
   "outputs": [
    {
     "data": {
      "text/plain": [
       "168991"
      ]
     },
     "execution_count": 17,
     "metadata": {},
     "output_type": "execute_result"
    }
   ],
   "source": [
    "dogrulama_orani = len(jetonlar) // 10\n",
    "dogrulama_orani"
   ]
  },
  {
   "cell_type": "markdown",
   "metadata": {},
   "source": [
    "Jetonların oranlarını ayıralım bir birbirilerinden"
   ]
  },
  {
   "cell_type": "code",
   "execution_count": 18,
   "metadata": {},
   "outputs": [
    {
     "name": "stdout",
     "output_type": "stream",
     "text": [
      " Eğitim jetonları : 1520928   Doğrulma jetonları: 168991\n"
     ]
    }
   ],
   "source": [
    "egitim_jetonlari = jetonlar[:-dogrulama_orani]\n",
    "dogrulama_jetonlari = jetonlar[-dogrulama_orani:]\n",
    "print (\" Eğitim jetonları :\",len(egitim_jetonlari), \"  Doğrulma jetonları:\", len(dogrulama_jetonlari))"
   ]
  },
  {
   "cell_type": "markdown",
   "metadata": {},
   "source": [
    "jetonları dosyaya kaydedelim"
   ]
  },
  {
   "cell_type": "code",
   "execution_count": 20,
   "metadata": {},
   "outputs": [],
   "source": [
    "with open(\"Jetonlar/egitim_jetonlari.bin\", \"wb\") as f:\n",
    "    f.write(bytes(egitim_jetonlari))\n",
    "\n",
    "with open(\"Jetonlar/dogrulama_jetonlari.bin\", \"wb\") as f:\n",
    "    f.write(bytes(dogrulama_jetonlari))"
   ]
  },
  {
   "cell_type": "markdown",
   "metadata": {},
   "source": []
  }
 ],
 "metadata": {
  "kernelspec": {
   "display_name": "intihal",
   "language": "python",
   "name": "python3"
  },
  "language_info": {
   "codemirror_mode": {
    "name": "ipython",
    "version": 3
   },
   "file_extension": ".py",
   "mimetype": "text/x-python",
   "name": "python",
   "nbconvert_exporter": "python",
   "pygments_lexer": "ipython3",
   "version": "3.10.0"
  }
 },
 "nbformat": 4,
 "nbformat_minor": 2
}
